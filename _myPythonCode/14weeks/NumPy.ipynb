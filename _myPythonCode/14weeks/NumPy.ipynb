{
 "cells": [
  {
   "cell_type": "markdown",
   "id": "228a1681-f563-4475-83bd-28226e73fe82",
   "metadata": {},
   "source": [
    "# 배열 데이터를 효과적으로 다루는 NumPy"
   ]
  },
  {
   "cell_type": "markdown",
   "id": "a5c3c30c-806c-4b53-97ea-aee0f073fd49",
   "metadata": {},
   "source": [
    "## 1. 배열 생성하기"
   ]
  },
  {
   "cell_type": "markdown",
   "id": "c06aad38-4cac-4387-b507-d16cf9e92571",
   "metadata": {},
   "source": [
    "### NumPy 패키지 임포트"
   ]
  },
  {
   "cell_type": "code",
   "execution_count": 5,
   "id": "0b055f74-f428-494b-81de-2a4bf8ba1f2f",
   "metadata": {},
   "outputs": [],
   "source": [
    "import numpy as np"
   ]
  },
  {
   "cell_type": "markdown",
   "id": "696b83ed-ed76-456a-92e7-eea48022013d",
   "metadata": {},
   "source": [
    "### 시퀀스 데이터로부터 배열 생성"
   ]
  },
  {
   "cell_type": "code",
   "execution_count": 2,
   "id": "3da67c62-367b-42f8-bb56-e526b1db3380",
   "metadata": {},
   "outputs": [
    {
     "ename": "NameError",
     "evalue": "name 'seq_data' is not defined",
     "output_type": "error",
     "traceback": [
      "\u001b[1;31m---------------------------------------------------------------------------\u001b[0m",
      "\u001b[1;31mNameError\u001b[0m                                 Traceback (most recent call last)",
      "Cell \u001b[1;32mIn[2], line 1\u001b[0m\n\u001b[1;32m----> 1\u001b[0m arr_obj \u001b[38;5;241m=\u001b[39m np\u001b[38;5;241m.\u001b[39marray(\u001b[43mseq_data\u001b[49m)\n",
      "\u001b[1;31mNameError\u001b[0m: name 'seq_data' is not defined"
     ]
    }
   ],
   "source": [
    "arr_obj = np.array(seq_data)"
   ]
  },
  {
   "cell_type": "markdown",
   "id": "353c26e9-ca36-4fc5-be77-472369137a9b",
   "metadata": {},
   "source": [
    "### 리스트로부터NumPy의1차원배열을생성하는예"
   ]
  },
  {
   "cell_type": "code",
   "execution_count": 5,
   "id": "414b8aeb-4743-4f5f-a43f-f250deccc46d",
   "metadata": {},
   "outputs": [
    {
     "data": {
      "text/plain": [
       "array([0, 1, 2, 3, 4, 5])"
      ]
     },
     "execution_count": 5,
     "metadata": {},
     "output_type": "execute_result"
    }
   ],
   "source": [
    "import numpy as np \n",
    "data1 = [0, 1, 2, 3, 4, 5] \n",
    "a1 = np.array(data1) \n",
    "a1"
   ]
  },
  {
   "cell_type": "markdown",
   "id": "da56fbfb-0fb3-44b7-a6d7-7cfaebdb1bb8",
   "metadata": {},
   "source": [
    "### 정수와 실수가 혼합된 리스트 데이터로 NumPy 배열을 만들어 보자"
   ]
  },
  {
   "cell_type": "code",
   "execution_count": 6,
   "id": "5fac5977-5931-4efa-97ce-75a09876d038",
   "metadata": {},
   "outputs": [
    {
     "data": {
      "text/plain": [
       "array([ 0.1,  5. ,  4. , 12. ,  0.5])"
      ]
     },
     "execution_count": 6,
     "metadata": {},
     "output_type": "execute_result"
    }
   ],
   "source": [
    "data2 = [0.1,  5,  4,  12,  0.5] \n",
    "a2 = np.array(data2) \n",
    "a2"
   ]
  },
  {
   "cell_type": "markdown",
   "id": "b0289db6-2ba5-4eae-8da3-bf852a2fb3b5",
   "metadata": {},
   "source": [
    "## 2. 배열의 객체 타입 확인"
   ]
  },
  {
   "cell_type": "code",
   "execution_count": 8,
   "id": "fca524d0-62f4-4132-9f58-01d56122cab6",
   "metadata": {},
   "outputs": [
    {
     "data": {
      "text/plain": [
       "dtype('int32')"
      ]
     },
     "execution_count": 8,
     "metadata": {},
     "output_type": "execute_result"
    }
   ],
   "source": [
    "import numpy as np \n",
    "a1 = np.array([0, 1, 2, 3, 4, 5])\n",
    "a1.dtype "
   ]
  },
  {
   "cell_type": "code",
   "execution_count": 9,
   "id": "749b7a42-06b0-4a5e-b806-7a0114b0d393",
   "metadata": {},
   "outputs": [
    {
     "data": {
      "text/plain": [
       "dtype('float64')"
      ]
     },
     "execution_count": 9,
     "metadata": {},
     "output_type": "execute_result"
    }
   ],
   "source": [
    "import numpy as np \n",
    "a2 = np.array([0.1, 5, 4, 12, 0.5])\n",
    "a2.dtype"
   ]
  },
  {
   "cell_type": "markdown",
   "id": "b1294110-c14a-4f59-a36e-a9e6adf6eb8c",
   "metadata": {},
   "source": [
    "## 3. 다차원 배열 생성"
   ]
  },
  {
   "cell_type": "code",
   "execution_count": 10,
   "id": "94776d7c-87c8-433e-820d-ca855396d0f9",
   "metadata": {},
   "outputs": [
    {
     "data": {
      "text/plain": [
       "array([[1, 2, 3],\n",
       "       [4, 5, 6],\n",
       "       [7, 8, 9]])"
      ]
     },
     "execution_count": 10,
     "metadata": {},
     "output_type": "execute_result"
    }
   ],
   "source": [
    "np.array([[1,2,3], [4,5,6], [7,8,9]])"
   ]
  },
  {
   "cell_type": "markdown",
   "id": "f6bdf001-d3bd-478b-876c-68de96b82277",
   "metadata": {},
   "source": [
    "## 4. 범위를 지정해 배열 생성"
   ]
  },
  {
   "cell_type": "code",
   "execution_count": 13,
   "id": "4fb42e3d-ba17-442a-82f9-14e002fbeb57",
   "metadata": {},
   "outputs": [
    {
     "data": {
      "text/plain": [
       "array([0, 2, 4, 6, 8])"
      ]
     },
     "execution_count": 13,
     "metadata": {},
     "output_type": "execute_result"
    }
   ],
   "source": [
    "np.arange(0, 10, 2)"
   ]
  },
  {
   "cell_type": "code",
   "execution_count": 14,
   "id": "dcfe0fea-1fed-4a10-96b6-85a94ab8ac7a",
   "metadata": {},
   "outputs": [
    {
     "data": {
      "text/plain": [
       "array([1, 2, 3, 4, 5, 6, 7, 8, 9])"
      ]
     },
     "execution_count": 14,
     "metadata": {},
     "output_type": "execute_result"
    }
   ],
   "source": [
    "np.arange(1, 10)"
   ]
  },
  {
   "cell_type": "code",
   "execution_count": 15,
   "id": "5679c496-c7ca-4516-acfd-485d5e9156dd",
   "metadata": {},
   "outputs": [
    {
     "data": {
      "text/plain": [
       "array([0, 1, 2, 3, 4])"
      ]
     },
     "execution_count": 15,
     "metadata": {},
     "output_type": "execute_result"
    }
   ],
   "source": [
    "np.arange(5)"
   ]
  },
  {
   "cell_type": "markdown",
   "id": "d79cd22a-90f8-4ab7-afd7-e07e3aad61b6",
   "metadata": {},
   "source": [
    "## 5. m x n 행렬 : .reshape(m, n)"
   ]
  },
  {
   "cell_type": "code",
   "execution_count": 16,
   "id": "fdd12cea-ffab-4aa0-a041-4545a857b7a5",
   "metadata": {},
   "outputs": [
    {
     "data": {
      "text/plain": [
       "array([[ 0,  1,  2],\n",
       "       [ 3,  4,  5],\n",
       "       [ 6,  7,  8],\n",
       "       [ 9, 10, 11]])"
      ]
     },
     "execution_count": 16,
     "metadata": {},
     "output_type": "execute_result"
    }
   ],
   "source": [
    "np.arange(12).reshape(4,3)"
   ]
  },
  {
   "cell_type": "code",
   "execution_count": 17,
   "id": "1c6ba6f3-86c8-4e2c-9fb3-8be4387f1038",
   "metadata": {},
   "outputs": [
    {
     "data": {
      "text/plain": [
       "(4, 3)"
      ]
     },
     "execution_count": 17,
     "metadata": {},
     "output_type": "execute_result"
    }
   ],
   "source": [
    "b1 = np.arange(12).reshape(4,3) \n",
    "b1.shape"
   ]
  },
  {
   "cell_type": "code",
   "execution_count": 18,
   "id": "14aa689f-7151-4b57-9d6d-cee6e87088e8",
   "metadata": {},
   "outputs": [
    {
     "data": {
      "text/plain": [
       "(5,)"
      ]
     },
     "execution_count": 18,
     "metadata": {},
     "output_type": "execute_result"
    }
   ],
   "source": [
    "b2 = np.arange(5) \n",
    "b2.shape"
   ]
  },
  {
   "cell_type": "markdown",
   "id": "6f90f846-4a3f-4c6e-ab30-e90df19c77bc",
   "metadata": {},
   "source": [
    "## 6. 범위의 시작과 끝, 데이터의 개수를 지정해 배열 생성 : .linspace()"
   ]
  },
  {
   "cell_type": "code",
   "execution_count": 20,
   "id": "04462d5e-4fbc-4d44-8fec-b7e89690a7b7",
   "metadata": {},
   "outputs": [
    {
     "data": {
      "text/plain": [
       "array([ 1.,  2.,  3.,  4.,  5.,  6.,  7.,  8.,  9., 10.])"
      ]
     },
     "execution_count": 20,
     "metadata": {},
     "output_type": "execute_result"
    }
   ],
   "source": [
    "np.linspace(1, 10, 10)"
   ]
  },
  {
   "cell_type": "code",
   "execution_count": 21,
   "id": "b34d7e59-cd12-4342-b5a4-26c902e7c532",
   "metadata": {},
   "outputs": [
    {
     "data": {
      "text/plain": [
       "array([0.        , 0.16534698, 0.33069396, 0.49604095, 0.66138793,\n",
       "       0.82673491, 0.99208189, 1.15742887, 1.32277585, 1.48812284,\n",
       "       1.65346982, 1.8188168 , 1.98416378, 2.14951076, 2.31485774,\n",
       "       2.48020473, 2.64555171, 2.81089869, 2.97624567, 3.14159265])"
      ]
     },
     "execution_count": 21,
     "metadata": {},
     "output_type": "execute_result"
    }
   ],
   "source": [
    "np.linspace(0, np.pi, 20)"
   ]
  },
  {
   "cell_type": "markdown",
   "id": "9836cf3f-0609-4e82-908f-f0b0341d47a7",
   "metadata": {},
   "source": [
    "## 7. 특별한 형태의 배열 생성"
   ]
  },
  {
   "cell_type": "code",
   "execution_count": 22,
   "id": "15512791-7809-4663-98ff-79f9d8b04771",
   "metadata": {},
   "outputs": [
    {
     "data": {
      "text/plain": [
       "array([0., 0., 0., 0., 0., 0., 0., 0., 0., 0.])"
      ]
     },
     "execution_count": 22,
     "metadata": {},
     "output_type": "execute_result"
    }
   ],
   "source": [
    "np.zeros(10) # 10개의 원소가 모두 0을 갖는 1차원 배열 생성"
   ]
  },
  {
   "cell_type": "code",
   "execution_count": 23,
   "id": "48d3baf9-b96f-4ded-ae4a-59b9150b30bf",
   "metadata": {},
   "outputs": [
    {
     "data": {
      "text/plain": [
       "array([[0., 0., 0., 0.],\n",
       "       [0., 0., 0., 0.],\n",
       "       [0., 0., 0., 0.]])"
      ]
     },
     "execution_count": 23,
     "metadata": {},
     "output_type": "execute_result"
    }
   ],
   "source": [
    "np.zeros((3,4)) # 모든 원소가 0인 3 x 4의 2차원 배열을 생성"
   ]
  },
  {
   "cell_type": "code",
   "execution_count": 24,
   "id": "ca818c3b-1fbd-423a-a3d2-cefb64122a12",
   "metadata": {},
   "outputs": [
    {
     "data": {
      "text/plain": [
       "array([1., 1., 1., 1., 1.])"
      ]
     },
     "execution_count": 24,
     "metadata": {},
     "output_type": "execute_result"
    }
   ],
   "source": [
    "np.ones(5) # 5개의 원소가 모두 1을 갖는 1차원 배열 생성"
   ]
  },
  {
   "cell_type": "code",
   "execution_count": 25,
   "id": "5824aa97-0231-4ab0-a50d-2dfa31341da0",
   "metadata": {},
   "outputs": [
    {
     "data": {
      "text/plain": [
       "array([[1., 1., 1., 1., 1.],\n",
       "       [1., 1., 1., 1., 1.],\n",
       "       [1., 1., 1., 1., 1.]])"
      ]
     },
     "execution_count": 25,
     "metadata": {},
     "output_type": "execute_result"
    }
   ],
   "source": [
    "np.ones((3,5)) # 모든 원소가 1인 3 x 5의 2차원 배열을 생성"
   ]
  },
  {
   "cell_type": "markdown",
   "id": "35c8c37b-74ed-4c46-8211-d67538adc644",
   "metadata": {},
   "source": [
    "## 8. 단위 행렬 생성 : eye(n)"
   ]
  },
  {
   "cell_type": "code",
   "execution_count": 26,
   "id": "48b00339-6b05-43b0-9a14-178e0c2fcd8f",
   "metadata": {},
   "outputs": [
    {
     "data": {
      "text/plain": [
       "array([[1., 0., 0.],\n",
       "       [0., 1., 0.],\n",
       "       [0., 0., 1.]])"
      ]
     },
     "execution_count": 26,
     "metadata": {},
     "output_type": "execute_result"
    }
   ],
   "source": [
    "np.eye(3) # 3 x 3의 단위 행렬을 생성"
   ]
  },
  {
   "cell_type": "markdown",
   "id": "32fb0762-407d-4fcd-977a-a71b98c87b47",
   "metadata": {},
   "source": [
    "## 9. 배열의 데이터 타입 변환"
   ]
  },
  {
   "cell_type": "code",
   "execution_count": 27,
   "id": "c5f192a7-3136-490a-98ba-2292159ad7f4",
   "metadata": {},
   "outputs": [
    {
     "data": {
      "text/plain": [
       "array(['1.5', '0.62', '2', '3.14', '3.141592'], dtype='<U8')"
      ]
     },
     "execution_count": 27,
     "metadata": {},
     "output_type": "execute_result"
    }
   ],
   "source": [
    "np.array(['1.5', '0.62', '2', '3.14', '3.141592'])"
   ]
  },
  {
   "cell_type": "markdown",
   "id": "676cf270-3dc4-4553-9828-84bdb088aa16",
   "metadata": {},
   "source": [
    "## 10. NumPy 배열의데이터 타입변환 : astype()"
   ]
  },
  {
   "cell_type": "markdown",
   "id": "7570f002-2d2e-4206-a884-e550dac200bb",
   "metadata": {},
   "source": [
    "### 실수 형태의 문자열을 원소로 갖는 NumPy 배열을 실수 타입으로 변환하는 예"
   ]
  },
  {
   "cell_type": "code",
   "execution_count": 28,
   "id": "d9ab1dbd-b584-424c-a23f-79b901737bc0",
   "metadata": {},
   "outputs": [
    {
     "data": {
      "text/plain": [
       "array([1.567, 0.123, 5.123, 9.   , 8.   ])"
      ]
     },
     "execution_count": 28,
     "metadata": {},
     "output_type": "execute_result"
    }
   ],
   "source": [
    "str_a1 = np.array(['1.567', '0.123', '5.123', '9', '8']) \n",
    "num_a1 = str_a1.astype(float) \n",
    "num_a1"
   ]
  },
  {
   "cell_type": "code",
   "execution_count": 29,
   "id": "7a5df1a1-8f45-4c7a-b31b-db15f95b583b",
   "metadata": {},
   "outputs": [
    {
     "data": {
      "text/plain": [
       "dtype('<U5')"
      ]
     },
     "execution_count": 29,
     "metadata": {},
     "output_type": "execute_result"
    }
   ],
   "source": [
    "str_a1.dtype # str_a1은 dtype이 유니코드(U)이며 문자수는 최대 5개"
   ]
  },
  {
   "cell_type": "code",
   "execution_count": 30,
   "id": "c057cb3e-23aa-4e5d-9558-6a29829ff81d",
   "metadata": {},
   "outputs": [
    {
     "data": {
      "text/plain": [
       "dtype('float64')"
      ]
     },
     "execution_count": 30,
     "metadata": {},
     "output_type": "execute_result"
    }
   ],
   "source": [
    "num_a1.dtype # num_a1은 dtype이 실수(float)"
   ]
  },
  {
   "cell_type": "markdown",
   "id": "e03eb267-808f-469b-a94d-12040a4a028a",
   "metadata": {},
   "source": [
    "### 정수 형태의 문자열을 원소로 갖는 NumPy 배열을 정수로 변환하는 예"
   ]
  },
  {
   "cell_type": "code",
   "execution_count": 31,
   "id": "d64c7baa-88e4-444d-85ce-be57bddead7b",
   "metadata": {},
   "outputs": [
    {
     "data": {
      "text/plain": [
       "array([1, 3, 5, 7, 9])"
      ]
     },
     "execution_count": 31,
     "metadata": {},
     "output_type": "execute_result"
    }
   ],
   "source": [
    "str_a2 = np.array(['1', '3', '5', '7', '9']) \n",
    "num_a2 = str_a2.astype(int) \n",
    "num_a2"
   ]
  },
  {
   "cell_type": "code",
   "execution_count": 32,
   "id": "24e02c8e-9d86-4bfd-9431-479cb904ab9b",
   "metadata": {},
   "outputs": [
    {
     "data": {
      "text/plain": [
       "dtype('<U1')"
      ]
     },
     "execution_count": 32,
     "metadata": {},
     "output_type": "execute_result"
    }
   ],
   "source": [
    "str_a2.dtype # str_a2는 dtype이 유니코드(U)이며 문자수는 최대 1개"
   ]
  },
  {
   "cell_type": "code",
   "execution_count": 33,
   "id": "2122cbe2-a4b0-4092-9581-6a0a0990212d",
   "metadata": {},
   "outputs": [
    {
     "data": {
      "text/plain": [
       "dtype('int32')"
      ]
     },
     "execution_count": 33,
     "metadata": {},
     "output_type": "execute_result"
    }
   ],
   "source": [
    "num_a2.dtype # num_a2는 dtype이 정수(int32)"
   ]
  },
  {
   "cell_type": "markdown",
   "id": "c7fd52d1-5ca1-4f4e-bef3-350d62859ca6",
   "metadata": {},
   "source": [
    "### 실수를 원소로 갖는 NumPy 배열을 정수로 변환하는 예"
   ]
  },
  {
   "cell_type": "code",
   "execution_count": 34,
   "id": "4081737f-14f8-44ef-b5cb-6a20de384c87",
   "metadata": {},
   "outputs": [
    {
     "data": {
      "text/plain": [
       "array([10.   , 21.   ,  0.549,  4.75 ,  5.98 ])"
      ]
     },
     "execution_count": 34,
     "metadata": {},
     "output_type": "execute_result"
    }
   ],
   "source": [
    "num_f1 = np.array([10,  21,  0.549,  4.75,  5.98]) \n",
    "num_i1 = num_f1.astype(int) \n",
    "num_f1"
   ]
  },
  {
   "cell_type": "code",
   "execution_count": 35,
   "id": "6e85a3e5-cf5e-42d0-b6df-6a2c94dc520f",
   "metadata": {},
   "outputs": [
    {
     "data": {
      "text/plain": [
       "dtype('float64')"
      ]
     },
     "execution_count": 35,
     "metadata": {},
     "output_type": "execute_result"
    }
   ],
   "source": [
    "num_f1.dtype # num_f1은 dtype이 실수(float64)"
   ]
  },
  {
   "cell_type": "code",
   "execution_count": 36,
   "id": "4e585952-08ba-48cb-bafb-8dc1e6e22907",
   "metadata": {},
   "outputs": [
    {
     "data": {
      "text/plain": [
       "dtype('int32')"
      ]
     },
     "execution_count": 36,
     "metadata": {},
     "output_type": "execute_result"
    }
   ],
   "source": [
    "num_i1.dtype # num_i1은 dtype이 정수(int32)"
   ]
  },
  {
   "cell_type": "markdown",
   "id": "e45e66a7-a124-40a4-b317-acce3bc6649f",
   "metadata": {},
   "source": [
    "## 11. 실수 난수 배열의 생성 : random.rand()"
   ]
  },
  {
   "cell_type": "code",
   "execution_count": 37,
   "id": "e2ec5609-2813-44b5-9263-50b33257347d",
   "metadata": {},
   "outputs": [
    {
     "data": {
      "text/plain": [
       "0.11192820316532315"
      ]
     },
     "execution_count": 37,
     "metadata": {},
     "output_type": "execute_result"
    }
   ],
   "source": [
    "np.random.rand()"
   ]
  },
  {
   "cell_type": "code",
   "execution_count": 38,
   "id": "5bc664d3-29e3-4e02-b534-96c368e69c76",
   "metadata": {},
   "outputs": [
    {
     "data": {
      "text/plain": [
       "array([[0.29911356, 0.31851051, 0.85765746],\n",
       "       [0.41431878, 0.11618131, 0.84109502]])"
      ]
     },
     "execution_count": 38,
     "metadata": {},
     "output_type": "execute_result"
    }
   ],
   "source": [
    "np.random.rand(2,3)"
   ]
  },
  {
   "cell_type": "markdown",
   "id": "5c034035-db1e-4704-9a7d-0bb55cf156b5",
   "metadata": {},
   "source": [
    "## 12. 정수 난수 배열의 생성 : random.randint()"
   ]
  },
  {
   "cell_type": "code",
   "execution_count": 39,
   "id": "24443f91-e36b-4678-80c6-08628679c8ad",
   "metadata": {},
   "outputs": [
    {
     "data": {
      "text/plain": [
       "array([[8, 7, 6, 7],\n",
       "       [9, 3, 0, 5],\n",
       "       [8, 9, 7, 6]])"
      ]
     },
     "execution_count": 39,
     "metadata": {},
     "output_type": "execute_result"
    }
   ],
   "source": [
    "np.random.randint(10, size=(3, 4))"
   ]
  },
  {
   "cell_type": "code",
   "execution_count": 40,
   "id": "aaba04a5-e582-4b51-9062-600929e7f10f",
   "metadata": {},
   "outputs": [
    {
     "data": {
      "text/plain": [
       "24"
      ]
     },
     "execution_count": 40,
     "metadata": {},
     "output_type": "execute_result"
    }
   ],
   "source": [
    "np.random.randint(1, 30)"
   ]
  },
  {
   "cell_type": "markdown",
   "id": "47ee4d08-e120-49cc-9ee7-110bf70cdf9e",
   "metadata": {},
   "source": [
    "## 13. 배열의 연산 - 기본 연산"
   ]
  },
  {
   "cell_type": "code",
   "execution_count": 41,
   "id": "e1d66b7a-3aea-4963-b70d-94d4a1732fda",
   "metadata": {},
   "outputs": [],
   "source": [
    "arr1 = np.array([10, 20, 30, 40]) # 배열의 형태가 같은 두 개의 1차원 배열을 생성한다. \n",
    "arr2 = np.array([1, 2, 3, 4]) # 즉, 두 배열의 'ndarray.shape'의 결과가 같음을 의미한다. "
   ]
  },
  {
   "cell_type": "code",
   "execution_count": 42,
   "id": "1730efd8-160d-4044-a251-594f6e41ee2b",
   "metadata": {},
   "outputs": [
    {
     "data": {
      "text/plain": [
       "array([11, 22, 33, 44])"
      ]
     },
     "execution_count": 42,
     "metadata": {},
     "output_type": "execute_result"
    }
   ],
   "source": [
    "arr1 + arr2 # 두 배열의 합"
   ]
  },
  {
   "cell_type": "code",
   "execution_count": 43,
   "id": "a85ec552-d50d-4c90-8bb1-3a7c09b9ae7a",
   "metadata": {},
   "outputs": [
    {
     "data": {
      "text/plain": [
       "array([ 9, 18, 27, 36])"
      ]
     },
     "execution_count": 43,
     "metadata": {},
     "output_type": "execute_result"
    }
   ],
   "source": [
    "arr1 - arr2 # 두 배열의 차"
   ]
  },
  {
   "cell_type": "code",
   "execution_count": 44,
   "id": "ce01c0f2-fac6-4f55-b1e3-6a47f8d1024b",
   "metadata": {},
   "outputs": [
    {
     "data": {
      "text/plain": [
       "array([2, 4, 6, 8])"
      ]
     },
     "execution_count": 44,
     "metadata": {},
     "output_type": "execute_result"
    }
   ],
   "source": [
    "arr2 * 2 # 배열에 상수를 곱한다. "
   ]
  },
  {
   "cell_type": "code",
   "execution_count": 45,
   "id": "171f857e-8b04-4c7d-a809-5f9b225f210c",
   "metadata": {},
   "outputs": [
    {
     "data": {
      "text/plain": [
       "array([ 1,  4,  9, 16])"
      ]
     },
     "execution_count": 45,
     "metadata": {},
     "output_type": "execute_result"
    }
   ],
   "source": [
    "arr2 ** 2 # 배열의 거듭 제곱"
   ]
  },
  {
   "cell_type": "code",
   "execution_count": 46,
   "id": "057bfcc8-38fd-4048-b600-93f5d96f8f3b",
   "metadata": {},
   "outputs": [
    {
     "data": {
      "text/plain": [
       "array([ 10,  40,  90, 160])"
      ]
     },
     "execution_count": 46,
     "metadata": {},
     "output_type": "execute_result"
    }
   ],
   "source": [
    "arr1 * arr2 # 두 배열의 곱"
   ]
  },
  {
   "cell_type": "code",
   "execution_count": 47,
   "id": "dae9c478-fcff-499e-8c2a-ffd2a533cc79",
   "metadata": {},
   "outputs": [
    {
     "data": {
      "text/plain": [
       "array([10., 10., 10., 10.])"
      ]
     },
     "execution_count": 47,
     "metadata": {},
     "output_type": "execute_result"
    }
   ],
   "source": [
    "arr1 / arr2 # 두 배열의 나눗셈"
   ]
  },
  {
   "cell_type": "code",
   "execution_count": 48,
   "id": "d1c3f41f-e431-4ff4-8edd-a783bedb1026",
   "metadata": {},
   "outputs": [
    {
     "data": {
      "text/plain": [
       "array([10.        ,  5.        ,  3.33333333,  2.5       ])"
      ]
     },
     "execution_count": 48,
     "metadata": {},
     "output_type": "execute_result"
    }
   ],
   "source": [
    "arr1 / (arr2 ** 2)"
   ]
  },
  {
   "cell_type": "code",
   "execution_count": 49,
   "id": "c57361d2-da1d-4358-971a-fbb21f8505b6",
   "metadata": {},
   "outputs": [
    {
     "data": {
      "text/plain": [
       "array([False, False,  True,  True])"
      ]
     },
     "execution_count": 49,
     "metadata": {},
     "output_type": "execute_result"
    }
   ],
   "source": [
    "arr1 > 20"
   ]
  },
  {
   "cell_type": "markdown",
   "id": "0f28c8bd-03e8-40cd-b78d-b692c6822e4b",
   "metadata": {},
   "source": [
    "## 14. 통계를 위한 연산"
   ]
  },
  {
   "cell_type": "code",
   "execution_count": 50,
   "id": "a0b322c4-9cf0-41db-bfe9-8d7f43fc4ea5",
   "metadata": {},
   "outputs": [
    {
     "data": {
      "text/plain": [
       "array([0, 1, 2, 3, 4])"
      ]
     },
     "execution_count": 50,
     "metadata": {},
     "output_type": "execute_result"
    }
   ],
   "source": [
    "arr3 = np.arange(5) \n",
    "arr3"
   ]
  },
  {
   "cell_type": "code",
   "execution_count": 51,
   "id": "2f6a1ca1-c5bc-4504-89a4-b003502182fe",
   "metadata": {},
   "outputs": [
    {
     "data": {
      "text/plain": [
       "[10, 2.0]"
      ]
     },
     "execution_count": 51,
     "metadata": {},
     "output_type": "execute_result"
    }
   ],
   "source": [
    "[arr3.sum(), arr3.mean()] # 배열의 합과 평균을 구한다. "
   ]
  },
  {
   "cell_type": "code",
   "execution_count": 52,
   "id": "09f66fdb-5380-4265-b27c-a84e66f1b662",
   "metadata": {},
   "outputs": [
    {
     "data": {
      "text/plain": [
       "[1.4142135623730951, 2.0]"
      ]
     },
     "execution_count": 52,
     "metadata": {},
     "output_type": "execute_result"
    }
   ],
   "source": [
    "[arr3.std(), arr3.var()] # 배열의 표준 편차와 분산을 구한다. "
   ]
  },
  {
   "cell_type": "code",
   "execution_count": 53,
   "id": "dcaa3043-8a84-44b2-a2c6-f5e4df41cfac",
   "metadata": {},
   "outputs": [
    {
     "data": {
      "text/plain": [
       "[0, 4]"
      ]
     },
     "execution_count": 53,
     "metadata": {},
     "output_type": "execute_result"
    }
   ],
   "source": [
    "[arr3.min(), arr3.max()] # 배열의 최소값과 최대값을 구한다. "
   ]
  },
  {
   "cell_type": "markdown",
   "id": "dded917e-4005-417f-b174-f2b338bc04f0",
   "metadata": {},
   "source": [
    "### arr4를 이용해 누적합(cumsum())과 누적곱(cumprod())을 구해보자. "
   ]
  },
  {
   "cell_type": "code",
   "execution_count": 54,
   "id": "deca177d-9ec6-420d-b47d-a0132bb3d90c",
   "metadata": {},
   "outputs": [
    {
     "data": {
      "text/plain": [
       "array([1, 2, 3, 4])"
      ]
     },
     "execution_count": 54,
     "metadata": {},
     "output_type": "execute_result"
    }
   ],
   "source": [
    "arr4 = np.arange(1,5) \n",
    "arr4"
   ]
  },
  {
   "cell_type": "code",
   "execution_count": 56,
   "id": "c35d3e1b-060b-4fc8-a4b9-75694d222c4e",
   "metadata": {},
   "outputs": [
    {
     "data": {
      "text/plain": [
       "array([ 1,  3,  6, 10])"
      ]
     },
     "execution_count": 56,
     "metadata": {},
     "output_type": "execute_result"
    }
   ],
   "source": [
    "arr4.cumsum()"
   ]
  },
  {
   "cell_type": "code",
   "execution_count": 57,
   "id": "b709c8de-3395-4311-8633-6f9ee2a89f71",
   "metadata": {},
   "outputs": [
    {
     "data": {
      "text/plain": [
       "array([ 1,  2,  6, 24])"
      ]
     },
     "execution_count": 57,
     "metadata": {},
     "output_type": "execute_result"
    }
   ],
   "source": [
    "arr4.cumprod()"
   ]
  },
  {
   "cell_type": "markdown",
   "id": "68dceebe-6ee9-4c91-922c-9c4601831fe0",
   "metadata": {},
   "source": [
    "## 15. 행열 연산"
   ]
  },
  {
   "cell_type": "code",
   "execution_count": 59,
   "id": "438fd5fa-3986-4ed8-915e-d3b35655b1e1",
   "metadata": {},
   "outputs": [
    {
     "data": {
      "text/plain": [
       "array([[0, 1],\n",
       "       [2, 3]])"
      ]
     },
     "execution_count": 59,
     "metadata": {},
     "output_type": "execute_result"
    }
   ],
   "source": [
    "A = np.array([0, 1, 2, 3]).reshape(2,2)\n",
    "A"
   ]
  },
  {
   "cell_type": "code",
   "execution_count": 60,
   "id": "97c40402-426d-4b4d-9d1f-037d1b4168a5",
   "metadata": {},
   "outputs": [
    {
     "data": {
      "text/plain": [
       "array([[3, 2],\n",
       "       [0, 1]])"
      ]
     },
     "execution_count": 60,
     "metadata": {},
     "output_type": "execute_result"
    }
   ],
   "source": [
    "B = np.array([3, 2, 0, 1]).reshape(2,2)\n",
    "B"
   ]
  },
  {
   "cell_type": "markdown",
   "id": "c8254d49-b6a3-4d0b-b865-5998690432db",
   "metadata": {},
   "source": [
    "### 행렬 A와 B의 곱(A * B)"
   ]
  },
  {
   "cell_type": "code",
   "execution_count": 61,
   "id": "9e1cb854-c328-4c74-9971-8ad599fb5527",
   "metadata": {},
   "outputs": [
    {
     "data": {
      "text/plain": [
       "array([[0, 1],\n",
       "       [6, 7]])"
      ]
     },
     "execution_count": 61,
     "metadata": {},
     "output_type": "execute_result"
    }
   ],
   "source": [
    "A.dot(B)"
   ]
  },
  {
   "cell_type": "code",
   "execution_count": 62,
   "id": "203dc857-fbaf-4084-8e09-bcf8804abf66",
   "metadata": {},
   "outputs": [
    {
     "data": {
      "text/plain": [
       "array([[0, 1],\n",
       "       [6, 7]])"
      ]
     },
     "execution_count": 62,
     "metadata": {},
     "output_type": "execute_result"
    }
   ],
   "source": [
    "np.dot(A,B)"
   ]
  },
  {
   "cell_type": "markdown",
   "id": "1d0827de-86ea-41c4-b7ef-4b0bf7156cc8",
   "metadata": {},
   "source": [
    "### 행렬 A의 전치 행렬"
   ]
  },
  {
   "cell_type": "code",
   "execution_count": 63,
   "id": "b7a75979-c4b7-4c05-972a-acd90b3e48ea",
   "metadata": {},
   "outputs": [
    {
     "data": {
      "text/plain": [
       "array([[0, 2],\n",
       "       [1, 3]])"
      ]
     },
     "execution_count": 63,
     "metadata": {},
     "output_type": "execute_result"
    }
   ],
   "source": [
    "np.transpose(A)"
   ]
  },
  {
   "cell_type": "code",
   "execution_count": 64,
   "id": "182c7c9d-e5d9-47bc-a93a-8444754b4d74",
   "metadata": {},
   "outputs": [
    {
     "data": {
      "text/plain": [
       "array([[0, 2],\n",
       "       [1, 3]])"
      ]
     },
     "execution_count": 64,
     "metadata": {},
     "output_type": "execute_result"
    }
   ],
   "source": [
    "A.transpose()"
   ]
  },
  {
   "cell_type": "markdown",
   "id": "a62d5337-dbec-45a6-9093-fb96e7bd599d",
   "metadata": {},
   "source": [
    "### 행렬 A의 역행렬"
   ]
  },
  {
   "cell_type": "code",
   "execution_count": 65,
   "id": "ddd4b3cd-5b45-44ca-aaaf-9cd1e6bd62d6",
   "metadata": {},
   "outputs": [
    {
     "data": {
      "text/plain": [
       "array([[-1.5,  0.5],\n",
       "       [ 1. ,  0. ]])"
      ]
     },
     "execution_count": 65,
     "metadata": {},
     "output_type": "execute_result"
    }
   ],
   "source": [
    "np.linalg.inv(A)"
   ]
  },
  {
   "cell_type": "markdown",
   "id": "27fc5149-b898-4b7d-8299-822fd2219b5d",
   "metadata": {},
   "source": [
    "### 행렬 A의 행렬식"
   ]
  },
  {
   "cell_type": "code",
   "execution_count": 66,
   "id": "f81930f3-d434-4591-85a1-710236f86d6e",
   "metadata": {},
   "outputs": [
    {
     "data": {
      "text/plain": [
       "-2.0"
      ]
     },
     "execution_count": 66,
     "metadata": {},
     "output_type": "execute_result"
    }
   ],
   "source": [
    "np.linalg.det(A)"
   ]
  },
  {
   "cell_type": "markdown",
   "id": "0f34143d-b8bc-4c29-b06e-d960fb0b393a",
   "metadata": {},
   "source": [
    "## 16. 배열의 인덱싱"
   ]
  },
  {
   "cell_type": "code",
   "execution_count": 6,
   "id": "b12165fa-2d69-45b5-98ec-2bff577f63c7",
   "metadata": {},
   "outputs": [
    {
     "data": {
      "text/plain": [
       "array([ 0, 10, 20, 30, 40, 50])"
      ]
     },
     "execution_count": 6,
     "metadata": {},
     "output_type": "execute_result"
    }
   ],
   "source": [
    "a1 = np.array([0, 10, 20, 30, 40, 50]) # 1차원 배열 생성\n",
    "a1"
   ]
  },
  {
   "cell_type": "code",
   "execution_count": 68,
   "id": "07001205-8bb0-43eb-896f-cbc53099002c",
   "metadata": {},
   "outputs": [
    {
     "data": {
      "text/plain": [
       "0"
      ]
     },
     "execution_count": 68,
     "metadata": {},
     "output_type": "execute_result"
    }
   ],
   "source": [
    "a1[0] # 배열(a1)에서 위치 0의 원소 "
   ]
  },
  {
   "cell_type": "code",
   "execution_count": 69,
   "id": "14c14ec9-3159-49d0-bb34-754f33eba6dc",
   "metadata": {},
   "outputs": [
    {
     "data": {
      "text/plain": [
       "40"
      ]
     },
     "execution_count": 69,
     "metadata": {},
     "output_type": "execute_result"
    }
   ],
   "source": [
    "a1[4] # 배열(a1)에서 위치 4의 원소 선택"
   ]
  },
  {
   "cell_type": "code",
   "execution_count": 70,
   "id": "f5ffe450-94d2-40a3-9d20-7f87e20bbc8e",
   "metadata": {},
   "outputs": [
    {
     "data": {
      "text/plain": [
       "array([ 0, 10, 20, 30, 40, 70])"
      ]
     },
     "execution_count": 70,
     "metadata": {},
     "output_type": "execute_result"
    }
   ],
   "source": [
    "a1[5] = 70 \n",
    "a1"
   ]
  },
  {
   "cell_type": "code",
   "execution_count": 8,
   "id": "8bf9ff62-0e2b-469e-b061-53161a65176b",
   "metadata": {},
   "outputs": [
    {
     "data": {
      "text/plain": [
       "array([10, 30, 40])"
      ]
     },
     "execution_count": 8,
     "metadata": {},
     "output_type": "execute_result"
    }
   ],
   "source": [
    "a1[[1,3,4]] # 1차원 배열 a1에서 1, 3, 4의 위치에 있는 원소 10, 30, 40을 가져온다"
   ]
  },
  {
   "cell_type": "code",
   "execution_count": 11,
   "id": "dbfd5801-2abd-4b85-a0bb-bee6ce1e8906",
   "metadata": {},
   "outputs": [
    {
     "data": {
      "text/plain": [
       "array([[10, 20, 30],\n",
       "       [40, 50, 60],\n",
       "       [70, 80, 90]])"
      ]
     },
     "execution_count": 11,
     "metadata": {},
     "output_type": "execute_result"
    }
   ],
   "source": [
    "a2 = np.arange(10, 100, 10).reshape(3,3) # 2차원 배열 a2에서 0행 2열의 원소를 선택해서 가져온다. \n",
    "a2"
   ]
  },
  {
   "cell_type": "code",
   "execution_count": 73,
   "id": "91ee7305-93b1-4ecf-8296-6d0538369a21",
   "metadata": {},
   "outputs": [
    {
     "data": {
      "text/plain": [
       "array([[10, 20, 30],\n",
       "       [40, 50, 60],\n",
       "       [70, 80, 95]])"
      ]
     },
     "execution_count": 73,
     "metadata": {},
     "output_type": "execute_result"
    }
   ],
   "source": [
    "a2[2, 2] = 95 # 2차원 배열 a2에서 행과 열의 위치를 지정해서 원소의 값을 변경할 수 있다. \n",
    "a2"
   ]
  },
  {
   "cell_type": "markdown",
   "id": "8fdf0632-14ee-43ab-9fad-6b3efc738a20",
   "metadata": {},
   "source": [
    "### 다음은 특정 행을 지정해 행 전체의 값을 변경하는 예"
   ]
  },
  {
   "cell_type": "code",
   "execution_count": 74,
   "id": "b3a5b4a6-0408-4d1e-a869-9c764902effb",
   "metadata": {},
   "outputs": [
    {
     "data": {
      "text/plain": [
       "array([[10, 20, 30],\n",
       "       [45, 55, 65],\n",
       "       [70, 80, 95]])"
      ]
     },
     "execution_count": 74,
     "metadata": {},
     "output_type": "execute_result"
    }
   ],
   "source": [
    "a2[1] = np.array([45, 55, 65])\n",
    "a2"
   ]
  },
  {
   "cell_type": "code",
   "execution_count": 75,
   "id": "4d2ef0cc-cc05-46a5-9310-15d3b5ff0b07",
   "metadata": {},
   "outputs": [
    {
     "data": {
      "text/plain": [
       "array([[10, 20, 30],\n",
       "       [47, 57, 67],\n",
       "       [70, 80, 95]])"
      ]
     },
     "execution_count": 75,
     "metadata": {},
     "output_type": "execute_result"
    }
   ],
   "source": [
    "a2[1] = [47, 57, 67]\n",
    "a2"
   ]
  },
  {
   "cell_type": "markdown",
   "id": "ace29377-907b-424e-a733-4fd7570219b9",
   "metadata": {},
   "source": [
    "### 2차원 배열의 여러 원소를 선택"
   ]
  },
  {
   "cell_type": "code",
   "execution_count": 76,
   "id": "59fa783f-4aed-4cc8-b866-423489477c53",
   "metadata": {},
   "outputs": [
    {
     "data": {
      "text/plain": [
       "array([10, 80])"
      ]
     },
     "execution_count": 76,
     "metadata": {},
     "output_type": "execute_result"
    }
   ],
   "source": [
    "a2[[0, 2], [0, 1]] # 2차원 배열 a2에서 (0, 0) 위치의 원소 10과 (2, 1) 위치의 원소 80을 선택해서 가져온다. "
   ]
  },
  {
   "cell_type": "markdown",
   "id": "aa5f7cc1-83d3-439e-a1d4-13f8dde761be",
   "metadata": {},
   "source": [
    "### 배열에 조건을 지정해 조건에 맞는 배열을 선택"
   ]
  },
  {
   "cell_type": "code",
   "execution_count": 77,
   "id": "581c8d12-35a3-4c33-a7c1-c556ad1cd733",
   "metadata": {},
   "outputs": [
    {
     "data": {
      "text/plain": [
       "array([4, 5, 6])"
      ]
     },
     "execution_count": 77,
     "metadata": {},
     "output_type": "execute_result"
    }
   ],
   "source": [
    "a = np.array([1, 2, 3, 4, 5, 6]) # 배열 a에서 a > 3 조건을 만족하는 원소만 가져온다. \n",
    "a[a > 3]"
   ]
  },
  {
   "cell_type": "code",
   "execution_count": 80,
   "id": "c2aa8014-c1c0-4442-8948-5e411cd4b62a",
   "metadata": {},
   "outputs": [
    {
     "data": {
      "text/plain": [
       "array([2, 4, 6])"
      ]
     },
     "execution_count": 80,
     "metadata": {},
     "output_type": "execute_result"
    }
   ],
   "source": [
    "a[(a % 2) == 0] # 조건을 이용해서 배열 a에서 짝수인 원소만 선택하는 예"
   ]
  },
  {
   "cell_type": "markdown",
   "id": "c6c03eb0-a5d5-47e5-a82d-afd08e3baf8a",
   "metadata": {},
   "source": [
    "## 17. 배열의 슬라이싱"
   ]
  },
  {
   "cell_type": "code",
   "execution_count": 81,
   "id": "b16bbcfa-f150-444e-9bc8-40317744d893",
   "metadata": {},
   "outputs": [
    {
     "data": {
      "text/plain": [
       "array([10, 20, 30])"
      ]
     },
     "execution_count": 81,
     "metadata": {},
     "output_type": "execute_result"
    }
   ],
   "source": [
    "b1 = np.array([0, 10, 20, 30, 40, 50]) # 1차원 배열 b1에서 1 ~ 3의 배열 원소를 슬라이싱\n",
    "b1[1:4]"
   ]
  },
  {
   "cell_type": "code",
   "execution_count": 82,
   "id": "cb57befc-3d67-4624-868c-732ee4edeec1",
   "metadata": {},
   "outputs": [
    {
     "data": {
      "text/plain": [
       "array([ 0, 10, 20])"
      ]
     },
     "execution_count": 82,
     "metadata": {},
     "output_type": "execute_result"
    }
   ],
   "source": [
    "b1[:3]"
   ]
  },
  {
   "cell_type": "code",
   "execution_count": 83,
   "id": "0b7f12c5-6584-42d6-92ec-49f4cf6576e0",
   "metadata": {},
   "outputs": [
    {
     "data": {
      "text/plain": [
       "array([20, 30, 40, 50])"
      ]
     },
     "execution_count": 83,
     "metadata": {},
     "output_type": "execute_result"
    }
   ],
   "source": [
    "b1[2:]"
   ]
  },
  {
   "cell_type": "code",
   "execution_count": 84,
   "id": "39d8d091-cb6b-486e-972e-3759d87eeeff",
   "metadata": {},
   "outputs": [
    {
     "data": {
      "text/plain": [
       "array([ 0, 10, 25, 35, 45, 50])"
      ]
     },
     "execution_count": 84,
     "metadata": {},
     "output_type": "execute_result"
    }
   ],
   "source": [
    "b1[2:5] = np.array([25, 35, 45])\n",
    "b1"
   ]
  },
  {
   "cell_type": "code",
   "execution_count": 85,
   "id": "c6edf0f2-680d-4c36-9d60-ccaa555b576d",
   "metadata": {},
   "outputs": [
    {
     "data": {
      "text/plain": [
       "array([ 0, 10, 25, 60, 60, 60])"
      ]
     },
     "execution_count": 85,
     "metadata": {},
     "output_type": "execute_result"
    }
   ],
   "source": [
    "b1[3:6] = 60 # 여러 원소의 값을 같은 값으로 변경하려면 하나의 값을 지정해 변경할 수 있다.\n",
    "b1"
   ]
  },
  {
   "cell_type": "markdown",
   "id": "358e78ed-54e8-4abe-ac28-571a6ce18183",
   "metadata": {},
   "source": [
    "### 2차원 배열의 슬라이싱을 위해 2차원 배열을 생성하자. "
   ]
  },
  {
   "cell_type": "code",
   "execution_count": 86,
   "id": "ab8542e0-42e6-466e-b055-b0dbba1a0a48",
   "metadata": {},
   "outputs": [
    {
     "data": {
      "text/plain": [
       "array([[10, 20, 30],\n",
       "       [40, 50, 60],\n",
       "       [70, 80, 90]])"
      ]
     },
     "execution_count": 86,
     "metadata": {},
     "output_type": "execute_result"
    }
   ],
   "source": [
    "b2 = np.arange(10, 100, 10).reshape(3,3) \n",
    "b2"
   ]
  },
  {
   "cell_type": "code",
   "execution_count": 87,
   "id": "64946b53-54e6-4e19-a9c5-e6b41a204f28",
   "metadata": {},
   "outputs": [
    {
     "data": {
      "text/plain": [
       "array([[50, 60],\n",
       "       [80, 90]])"
      ]
     },
     "execution_count": 87,
     "metadata": {},
     "output_type": "execute_result"
    }
   ],
   "source": [
    "b2[1:3, 1:3]"
   ]
  },
  {
   "cell_type": "code",
   "execution_count": 88,
   "id": "ce478a9d-8fc8-41c6-a355-e317e9a01be8",
   "metadata": {},
   "outputs": [
    {
     "data": {
      "text/plain": [
       "array([[20, 30],\n",
       "       [50, 60],\n",
       "       [80, 90]])"
      ]
     },
     "execution_count": 88,
     "metadata": {},
     "output_type": "execute_result"
    }
   ],
   "source": [
    "b2[:3, 1:]"
   ]
  },
  {
   "cell_type": "markdown",
   "id": "09fd2572-edcd-4230-9631-4574f5340ca7",
   "metadata": {},
   "source": [
    "### 2차원 배열에서 행을 지정하고 열을 슬라이싱하는 예"
   ]
  },
  {
   "cell_type": "code",
   "execution_count": 90,
   "id": "dda70c99-625b-4de8-b55a-b0321a5b27d6",
   "metadata": {},
   "outputs": [
    {
     "data": {
      "text/plain": [
       "array([40, 50])"
      ]
     },
     "execution_count": 90,
     "metadata": {},
     "output_type": "execute_result"
    }
   ],
   "source": [
    "b2[1][0:2]"
   ]
  },
  {
   "cell_type": "code",
   "execution_count": 91,
   "id": "10167ca1-d678-4e47-a491-af4f779ef28f",
   "metadata": {},
   "outputs": [
    {
     "data": {
      "text/plain": [
       "array([[10, 25, 35],\n",
       "       [40, 55, 65],\n",
       "       [70, 80, 90]])"
      ]
     },
     "execution_count": 91,
     "metadata": {},
     "output_type": "execute_result"
    }
   ],
   "source": [
    "b2[0:2, 1:3] = np.array([[25, 35], [55, 65]])\n",
    "b2"
   ]
  }
 ],
 "metadata": {
  "kernelspec": {
   "display_name": "Python 3 (ipykernel)",
   "language": "python",
   "name": "python3"
  },
  "language_info": {
   "codemirror_mode": {
    "name": "ipython",
    "version": 3
   },
   "file_extension": ".py",
   "mimetype": "text/x-python",
   "name": "python",
   "nbconvert_exporter": "python",
   "pygments_lexer": "ipython3",
   "version": "3.12.2"
  }
 },
 "nbformat": 4,
 "nbformat_minor": 5
}
