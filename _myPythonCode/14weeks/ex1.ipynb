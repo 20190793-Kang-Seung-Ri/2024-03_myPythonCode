{
 "cells": [
  {
   "cell_type": "markdown",
   "id": "21a3d110-194a-47c9-b24b-b3d587c29dae",
   "metadata": {},
   "source": [
    "# 파이썬 프로그래밍 : Numpy 실습"
   ]
  },
  {
   "cell_type": "markdown",
   "id": "6d05c263-fa57-40e1-ac31-f7ff7459b9e9",
   "metadata": {},
   "source": [
    "## 배열 생성하기"
   ]
  },
  {
   "cell_type": "code",
   "execution_count": 2,
   "id": "c4ce9141-e3f7-4194-9a11-5e9a8c9fb808",
   "metadata": {},
   "outputs": [],
   "source": [
    "import numpy as np"
   ]
  },
  {
   "cell_type": "code",
   "execution_count": 5,
   "id": "e4df80e9-bdfe-4df6-8cfc-cc34e4edaeb2",
   "metadata": {},
   "outputs": [
    {
     "data": {
      "text/plain": [
       "array([0, 1, 2, 3, 4, 5])"
      ]
     },
     "execution_count": 5,
     "metadata": {},
     "output_type": "execute_result"
    }
   ],
   "source": [
    "data1 = range(6)\n",
    "a1 = np.array(data1)\n",
    "a1"
   ]
  },
  {
   "cell_type": "code",
   "execution_count": 8,
   "id": "faa27754-5598-4bb4-8d63-e0bc6612992b",
   "metadata": {},
   "outputs": [
    {
     "data": {
      "text/plain": [
       "2"
      ]
     },
     "execution_count": 8,
     "metadata": {},
     "output_type": "execute_result"
    }
   ],
   "source": [
    "a1[2]"
   ]
  },
  {
   "cell_type": "code",
   "execution_count": 9,
   "id": "f7cd371c-9c47-4097-9521-45f2634145fa",
   "metadata": {},
   "outputs": [
    {
     "data": {
      "text/plain": [
       "array([ 0.1,  5. ,  4. , 12. ,  0.5])"
      ]
     },
     "execution_count": 9,
     "metadata": {},
     "output_type": "execute_result"
    }
   ],
   "source": [
    "data2 = [0.1, 5.0, 4, 12, 0.5]\n",
    "a2 = np.array(data2)\n",
    "a2"
   ]
  },
  {
   "cell_type": "code",
   "execution_count": 10,
   "id": "e5497292-903e-4abb-8ab1-916b0fa8ca85",
   "metadata": {},
   "outputs": [
    {
     "data": {
      "text/plain": [
       "array([1, 2, 3])"
      ]
     },
     "execution_count": 10,
     "metadata": {},
     "output_type": "execute_result"
    }
   ],
   "source": [
    "a = np.array([1, 2, 3])\n",
    "a"
   ]
  },
  {
   "cell_type": "code",
   "execution_count": 17,
   "id": "54fc78d2-5f14-4ad2-b1f4-e4b81efb3835",
   "metadata": {},
   "outputs": [
    {
     "data": {
      "text/plain": [
       "(3,)"
      ]
     },
     "execution_count": 17,
     "metadata": {},
     "output_type": "execute_result"
    }
   ],
   "source": [
    "a.shape # (행, 열)"
   ]
  },
  {
   "cell_type": "code",
   "execution_count": 18,
   "id": "f4f2883e-f246-4af4-900b-477474804fda",
   "metadata": {},
   "outputs": [
    {
     "data": {
      "text/plain": [
       "1"
      ]
     },
     "execution_count": 18,
     "metadata": {},
     "output_type": "execute_result"
    }
   ],
   "source": [
    "a.ndim # 배열의 차수"
   ]
  },
  {
   "cell_type": "code",
   "execution_count": 19,
   "id": "dfc72445-f50e-448a-a143-ce7edbaba553",
   "metadata": {},
   "outputs": [
    {
     "data": {
      "text/plain": [
       "dtype('int32')"
      ]
     },
     "execution_count": 19,
     "metadata": {},
     "output_type": "execute_result"
    }
   ],
   "source": [
    "a.dtype # 데이터 타입"
   ]
  },
  {
   "cell_type": "code",
   "execution_count": 22,
   "id": "2d33dd19-3310-43eb-a0d8-7e0a52febedc",
   "metadata": {},
   "outputs": [
    {
     "data": {
      "text/plain": [
       "4"
      ]
     },
     "execution_count": 22,
     "metadata": {},
     "output_type": "execute_result"
    }
   ],
   "source": [
    "a.itemsize"
   ]
  },
  {
   "cell_type": "code",
   "execution_count": 21,
   "id": "c1b81b53-df03-4562-a1a4-5f4f5b7320ec",
   "metadata": {},
   "outputs": [
    {
     "data": {
      "text/plain": [
       "3"
      ]
     },
     "execution_count": 21,
     "metadata": {},
     "output_type": "execute_result"
    }
   ],
   "source": [
    "a.size # 항목의 개수"
   ]
  },
  {
   "cell_type": "code",
   "execution_count": 25,
   "id": "b313b9b5-9e2e-4009-9f14-21e62aef0db0",
   "metadata": {},
   "outputs": [
    {
     "data": {
      "text/plain": [
       "dtype('int32')"
      ]
     },
     "execution_count": 25,
     "metadata": {},
     "output_type": "execute_result"
    }
   ],
   "source": [
    "a1 = np.array(range(6))\n",
    "a1.dtype"
   ]
  },
  {
   "cell_type": "code",
   "execution_count": 29,
   "id": "9a1870c4-3d78-4c78-864e-276f9721d3d1",
   "metadata": {},
   "outputs": [
    {
     "data": {
      "text/plain": [
       "dtype('float64')"
      ]
     },
     "execution_count": 29,
     "metadata": {},
     "output_type": "execute_result"
    }
   ],
   "source": [
    "a2 = np.array([0.1, 5, 4, 12, 0.7])\n",
    "a2.dtype"
   ]
  },
  {
   "cell_type": "code",
   "execution_count": null,
   "id": "63652634-b7c3-4f05-a311-1bd497f1a704",
   "metadata": {},
   "outputs": [],
   "source": []
  },
  {
   "cell_type": "code",
   "execution_count": null,
   "id": "952fa9bd-4d56-493b-83dc-b216c6bfb122",
   "metadata": {},
   "outputs": [],
   "source": []
  },
  {
   "cell_type": "code",
   "execution_count": null,
   "id": "ff8b792d-3edd-4821-b3c2-3beccaa3f2a5",
   "metadata": {},
   "outputs": [],
   "source": []
  }
 ],
 "metadata": {
  "kernelspec": {
   "display_name": "Python 3 (ipykernel)",
   "language": "python",
   "name": "python3"
  },
  "language_info": {
   "codemirror_mode": {
    "name": "ipython",
    "version": 3
   },
   "file_extension": ".py",
   "mimetype": "text/x-python",
   "name": "python",
   "nbconvert_exporter": "python",
   "pygments_lexer": "ipython3",
   "version": "3.12.2"
  }
 },
 "nbformat": 4,
 "nbformat_minor": 5
}
